{
 "cells": [
  {
   "cell_type": "markdown",
   "metadata": {
    "colab_type": "text",
    "id": "USFuS5Q1IIIP"
   },
   "source": [
    "# Матрицы и матричные операции."
   ]
  },
  {
   "cell_type": "code",
   "execution_count": 2,
   "metadata": {
    "colab": {},
    "colab_type": "code",
    "id": "TraIV1atIIIX"
   },
   "outputs": [],
   "source": [
    "import numpy as np"
   ]
  },
  {
   "cell_type": "markdown",
   "metadata": {
    "colab_type": "text",
    "id": "VAmOu--LIILw"
   },
   "source": [
    "## Практическое задание"
   ]
  },
  {
   "cell_type": "markdown",
   "metadata": {},
   "source": [
    "Все задания рекомендуется делать вручную, затем проверяя полученные результаты с использованием numpy.\n",
    "\n",
    "__1.__ Установить, какие произведения матриц $AB$ и $BA$ определены, и найти размерности полученных матриц:\n",
    "\n",
    "   а) $A$ — матрица $4\\times 2$, $B$ — матрица $4\\times 2$; $AB$ и $BA$ - неопределены (недопустимая операция)\n",
    "   \n",
    "   \n",
    "    \n",
    "   б) $A$ — матрица $2\\times 5$, $B$ — матрица $5\\times 3$; $AB$ - неопределена; $BA$ - $2\\times 3$\n",
    "    \n",
    "   в) $A$ — матрица $8\\times 3$, $B$ — матрица $3\\times 8$; $AB$ - $3\\times 3$; $BA$ - $8\\times 8$\n",
    "    \n",
    "   г) $A$ — квадратная матрица $4\\times 4$, $B$ — квадратная матрица $4\\times 4$. $AB$ - $4\\times 4$; $BA$ - $4\\times 4$"
   ]
  },
  {
   "cell_type": "markdown",
   "metadata": {},
   "source": [
    "# 1. \n",
    "\n",
    "### a) 𝐴  — матрица 4×2, 𝐵 — матрица 4×2\n",
    "      \n"
   ]
  },
  {
   "cell_type": "code",
   "execution_count": 10,
   "metadata": {},
   "outputs": [
    {
     "ename": "ValueError",
     "evalue": "shapes (4,2) and (4,2) not aligned: 2 (dim 1) != 4 (dim 0)",
     "output_type": "error",
     "traceback": [
      "\u001b[1;31m---------------------------------------------------------------------------\u001b[0m",
      "\u001b[1;31mValueError\u001b[0m                                Traceback (most recent call last)",
      "\u001b[1;32m<ipython-input-10-4ebbcf4f78cb>\u001b[0m in \u001b[0;36m<module>\u001b[1;34m\u001b[0m\n\u001b[0;32m      1\u001b[0m \u001b[0mA\u001b[0m \u001b[1;33m=\u001b[0m \u001b[0mnp\u001b[0m\u001b[1;33m.\u001b[0m\u001b[0marray\u001b[0m\u001b[1;33m(\u001b[0m\u001b[1;33m[\u001b[0m\u001b[1;33m[\u001b[0m\u001b[1;36m1\u001b[0m\u001b[1;33m,\u001b[0m \u001b[1;36m0\u001b[0m\u001b[1;33m]\u001b[0m\u001b[1;33m,\u001b[0m \u001b[1;33m[\u001b[0m\u001b[1;36m2\u001b[0m\u001b[1;33m,\u001b[0m \u001b[1;36m1\u001b[0m\u001b[1;33m]\u001b[0m\u001b[1;33m,\u001b[0m \u001b[1;33m[\u001b[0m\u001b[1;36m10\u001b[0m\u001b[1;33m,\u001b[0m \u001b[1;36m5\u001b[0m\u001b[1;33m]\u001b[0m\u001b[1;33m,\u001b[0m \u001b[1;33m[\u001b[0m\u001b[1;36m10\u001b[0m\u001b[1;33m,\u001b[0m \u001b[1;36m5\u001b[0m\u001b[1;33m]\u001b[0m\u001b[1;33m]\u001b[0m\u001b[1;33m)\u001b[0m\u001b[1;33m\u001b[0m\u001b[1;33m\u001b[0m\u001b[0m\n\u001b[0;32m      2\u001b[0m \u001b[0mB\u001b[0m \u001b[1;33m=\u001b[0m \u001b[0mnp\u001b[0m\u001b[1;33m.\u001b[0m\u001b[0marray\u001b[0m\u001b[1;33m(\u001b[0m\u001b[1;33m[\u001b[0m\u001b[1;33m[\u001b[0m\u001b[1;36m2\u001b[0m\u001b[1;33m,\u001b[0m \u001b[1;36m0\u001b[0m\u001b[1;33m]\u001b[0m\u001b[1;33m,\u001b[0m \u001b[1;33m[\u001b[0m\u001b[1;36m0\u001b[0m\u001b[1;33m,\u001b[0m \u001b[1;36m0\u001b[0m\u001b[1;33m]\u001b[0m\u001b[1;33m,\u001b[0m  \u001b[1;33m[\u001b[0m\u001b[1;36m10\u001b[0m\u001b[1;33m,\u001b[0m \u001b[1;36m5\u001b[0m\u001b[1;33m]\u001b[0m\u001b[1;33m,\u001b[0m \u001b[1;33m[\u001b[0m\u001b[1;36m10\u001b[0m\u001b[1;33m,\u001b[0m \u001b[1;36m5\u001b[0m\u001b[1;33m]\u001b[0m\u001b[1;33m]\u001b[0m\u001b[1;33m)\u001b[0m\u001b[1;33m\u001b[0m\u001b[1;33m\u001b[0m\u001b[0m\n\u001b[1;32m----> 3\u001b[1;33m \u001b[0mprint\u001b[0m\u001b[1;33m(\u001b[0m\u001b[1;34mf'Матрица AB\\n{np.dot(A, B)}'\u001b[0m\u001b[1;33m)\u001b[0m\u001b[1;33m\u001b[0m\u001b[1;33m\u001b[0m\u001b[0m\n\u001b[0m",
      "\u001b[1;31mValueError\u001b[0m: shapes (4,2) and (4,2) not aligned: 2 (dim 1) != 4 (dim 0)"
     ]
    }
   ],
   "source": [
    "A = np.array([[1, 0], [2, 1], [10, 5], [10, 5]])\n",
    "B = np.array([[2, 0], [0, 0],  [10, 5], [10, 5]])\n",
    "print(f'Матрица AB\\n{np.dot(A, B)}')"
   ]
  },
  {
   "cell_type": "code",
   "execution_count": 5,
   "metadata": {},
   "outputs": [
    {
     "ename": "ValueError",
     "evalue": "shapes (4,2) and (4,2) not aligned: 2 (dim 1) != 4 (dim 0)",
     "output_type": "error",
     "traceback": [
      "\u001b[1;31m---------------------------------------------------------------------------\u001b[0m",
      "\u001b[1;31mValueError\u001b[0m                                Traceback (most recent call last)",
      "\u001b[1;32m<ipython-input-5-7b072e17ff7c>\u001b[0m in \u001b[0;36m<module>\u001b[1;34m\u001b[0m\n\u001b[1;32m----> 1\u001b[1;33m \u001b[0mprint\u001b[0m\u001b[1;33m(\u001b[0m\u001b[1;34mf'Матрица AB\\n{np.dot(B, A)}'\u001b[0m\u001b[1;33m)\u001b[0m\u001b[1;33m\u001b[0m\u001b[1;33m\u001b[0m\u001b[0m\n\u001b[0m",
      "\u001b[1;31mValueError\u001b[0m: shapes (4,2) and (4,2) not aligned: 2 (dim 1) != 4 (dim 0)"
     ]
    }
   ],
   "source": [
    "print(f'Матрица BA\\n{np.dot(B, A)}')"
   ]
  },
  {
   "cell_type": "markdown",
   "metadata": {},
   "source": [
    "### б)𝐴  — матрица 2×5, 𝐵 — матрица 5×3;"
   ]
  },
  {
   "cell_type": "code",
   "execution_count": 12,
   "metadata": {},
   "outputs": [
    {
     "name": "stdout",
     "output_type": "stream",
     "text": [
      "Матрица AB\n",
      "[[ 92 105  26]\n",
      " [ 54  65  22]]\n"
     ]
    }
   ],
   "source": [
    "A = np.array([[1, 0, 4, 2, 3], [2, 1, 2, 1, 2]])\n",
    "B = np.array([[2, 0, 4], [0, 0, 2],  [10, 5, 3], [10, 5, 2], [10, 25, 2]])\n",
    "print(f'Матрица AB\\n{np.dot(A, B)}')"
   ]
  },
  {
   "cell_type": "code",
   "execution_count": 7,
   "metadata": {},
   "outputs": [
    {
     "ename": "ValueError",
     "evalue": "shapes (5,3) and (2,5) not aligned: 3 (dim 1) != 2 (dim 0)",
     "output_type": "error",
     "traceback": [
      "\u001b[1;31m---------------------------------------------------------------------------\u001b[0m",
      "\u001b[1;31mValueError\u001b[0m                                Traceback (most recent call last)",
      "\u001b[1;32m<ipython-input-7-b3a9d88bdece>\u001b[0m in \u001b[0;36m<module>\u001b[1;34m\u001b[0m\n\u001b[1;32m----> 1\u001b[1;33m \u001b[0mprint\u001b[0m\u001b[1;33m(\u001b[0m\u001b[1;34mf'Матрица BA\\n{np.dot(B, A)}'\u001b[0m\u001b[1;33m)\u001b[0m\u001b[1;33m\u001b[0m\u001b[1;33m\u001b[0m\u001b[0m\n\u001b[0m",
      "\u001b[1;31mValueError\u001b[0m: shapes (5,3) and (2,5) not aligned: 3 (dim 1) != 2 (dim 0)"
     ]
    }
   ],
   "source": [
    "print(f'Матрица BA\\n{np.dot(B, A)}')"
   ]
  },
  {
   "cell_type": "markdown",
   "metadata": {},
   "source": [
    "### В)   𝐴  — матрица  8×3 ,  𝐵  — матрица  3×8 "
   ]
  },
  {
   "cell_type": "code",
   "execution_count": 15,
   "metadata": {},
   "outputs": [
    {
     "name": "stdout",
     "output_type": "stream",
     "text": [
      "Матрица AB\n",
      "[[12  0 24 24 30 36 42 48]\n",
      " [12  0 24 24 30 36 42 48]\n",
      " [12  0 24 24 30 36 42 48]\n",
      " [12  0 24 24 30 36 42 48]\n",
      " [12  0 24 24 30 36 42 48]\n",
      " [12  0 24 24 30 36 42 48]\n",
      " [12  0 24 24 30 36 42 48]\n",
      " [12  0 24 24 30 36 42 48]]\n"
     ]
    }
   ],
   "source": [
    "A = np.array([[2, 0, 4], [2, 0, 4],[2, 0, 4],[2, 0, 4],[2, 0, 4],[2, 0, 4],[2, 0, 4],[2, 0, 4],])\n",
    "B = np.array([[2, 0, 4, 4, 5,6,7,8], [2, 0, 4, 4, 5,6,7,8],  [2, 0, 4, 4, 5,6,7,8]])\n",
    "print(f'Матрица AB\\n{np.dot(A, B)}')"
   ]
  },
  {
   "cell_type": "code",
   "execution_count": 16,
   "metadata": {},
   "outputs": [
    {
     "name": "stdout",
     "output_type": "stream",
     "text": [
      "Матрица BA\n",
      "[[ 72   0 144]\n",
      " [ 72   0 144]\n",
      " [ 72   0 144]]\n"
     ]
    }
   ],
   "source": [
    "print(f'Матрица BA\\n{np.dot(B, A)}')"
   ]
  },
  {
   "cell_type": "markdown",
   "metadata": {},
   "source": [
    "### г) 𝐴  — квадратная матрица 4×4, 𝐵 — квадратная матрица 4×4"
   ]
  },
  {
   "cell_type": "code",
   "execution_count": 18,
   "metadata": {},
   "outputs": [
    {
     "name": "stdout",
     "output_type": "stream",
     "text": [
      "Матрица AB\n",
      "[[14  7 14  7]\n",
      " [12  6 12  6]\n",
      " [12  6 12  6]\n",
      " [12  6 12  6]]\n"
     ]
    }
   ],
   "source": [
    "A = np.array([[1, 0, 4, 2], [2, 1, 2, 1], [2, 1, 2, 1], [2, 1, 2, 1]])\n",
    "B = np.array([[2, 1, 2, 1],[2, 1, 2, 1],[2, 1, 2, 1],[2, 1, 2, 1]])\n",
    "print(f'Матрица AB\\n{np.dot(A, B)}')"
   ]
  },
  {
   "cell_type": "code",
   "execution_count": 19,
   "metadata": {},
   "outputs": [
    {
     "name": "stdout",
     "output_type": "stream",
     "text": [
      "Матрица BA\n",
      "[[10  4 16  8]\n",
      " [10  4 16  8]\n",
      " [10  4 16  8]\n",
      " [10  4 16  8]]\n"
     ]
    }
   ],
   "source": [
    "print(f'Матрица BA\\n{np.dot(B, A)}')"
   ]
  },
  {
   "cell_type": "markdown",
   "metadata": {},
   "source": [
    "### Выводы: \n",
    "        а) недопустимые операции, матрицы неопределены\n",
    "        б) AB - (2;3), BA неопределена\n",
    "        в) АВ - (8;8), ВА - (3;3)\n",
    "        г) AB - (4;4), BA - (4;4)"
   ]
  },
  {
   "cell_type": "markdown",
   "metadata": {
    "colab_type": "text",
    "id": "APeDlmh8IIL1"
   },
   "source": [
    "### 2. Найти сумму и произведение матриц $A=\\begin{pmatrix}\n",
    "1 & -2\\\\ \n",
    "3 & 0\n",
    "\\end{pmatrix}$ и $B=\\begin{pmatrix}\n",
    "4 & -1\\\\ \n",
    "0 & 5\n",
    "\\end{pmatrix}.$ "
   ]
  },
  {
   "cell_type": "code",
   "execution_count": 20,
   "metadata": {},
   "outputs": [],
   "source": [
    "A = np.array([[1, -2], [3, 0]])\n",
    "B = np.array([[4, -1], [0, 5]])"
   ]
  },
  {
   "cell_type": "code",
   "execution_count": 23,
   "metadata": {},
   "outputs": [
    {
     "name": "stdout",
     "output_type": "stream",
     "text": [
      "Матрица С = A + B\n",
      "[[ 5 -3]\n",
      " [ 3  5]]\n",
      "Матрица AB\n",
      "[[  4 -11]\n",
      " [ 12  -3]]\n",
      "Матрица BA\n",
      "[[ 1 -8]\n",
      " [15  0]]\n"
     ]
    }
   ],
   "source": [
    "print(f'Матрица С = A + B\\n{A + B}')\n",
    "print(f'Матрица AB\\n{np.dot(A, B)}')\n",
    "print(f'Матрица BA\\n{np.dot(B, A)}')"
   ]
  },
  {
   "cell_type": "markdown",
   "metadata": {},
   "source": [
    "#### 3. Из закономерностей сложения и умножения матриц на число можно сделать вывод, что матрицы одного размера образуют линейное пространство. Вычислить линейную комбинацию $3A-2B+4C$ для матриц $A=\\begin{pmatrix}\n",
    "1 & 7\\\\ \n",
    "3 & -6\n",
    "\\end{pmatrix}$, $B=\\begin{pmatrix}\n",
    "0 & 5\\\\ \n",
    "2 & -1\n",
    "\\end{pmatrix}$, $C=\\begin{pmatrix}\n",
    "2 & -4\\\\ \n",
    "1 & 1\n",
    "\\end{pmatrix}.$"
   ]
  },
  {
   "cell_type": "code",
   "execution_count": 27,
   "metadata": {},
   "outputs": [
    {
     "name": "stdout",
     "output_type": "stream",
     "text": [
      "Линейная комбинация  3𝐴 − 2𝐵 + 4𝐶 = \n",
      "[[ 11  -5]\n",
      " [  9 -12]]\n"
     ]
    }
   ],
   "source": [
    "A = np.array([[1, 7], [3, -6]])\n",
    "B = np.array([[0, 5], [2 ,-1]])\n",
    "C = np.array([[2 ,-4],[1, 1]])\n",
    "\n",
    "print(f\"Линейная комбинация  3𝐴 − 2𝐵 + 4𝐶 = \\n{A*3+(-2)*B+4*C}\") \n"
   ]
  },
  {
   "cell_type": "markdown",
   "metadata": {},
   "source": [
    "__4.__ Дана матрица $A=\\begin{pmatrix}\n",
    "4 & 1\\\\ \n",
    "5 & -2\\\\ \n",
    "2 & 3\n",
    "\\end{pmatrix}$.\n",
    "Вычислить $AA^{T}$ и $A^{T}A$."
   ]
  },
  {
   "cell_type": "code",
   "execution_count": 32,
   "metadata": {},
   "outputs": [
    {
     "name": "stdout",
     "output_type": "stream",
     "text": [
      "Матрица AAt\n",
      "[[17 18 11]\n",
      " [18 29  4]\n",
      " [11  4 13]]\n",
      "\n"
     ]
    }
   ],
   "source": [
    "A = np.array([[4, 1], [5, -2], [2, 3]])\n",
    "At = A.T\n",
    "print(f'Матрица AAt\\n{np.dot(A, At)}\\n')"
   ]
  },
  {
   "cell_type": "code",
   "execution_count": 33,
   "metadata": {},
   "outputs": [
    {
     "name": "stdout",
     "output_type": "stream",
     "text": [
      "Матрица AtA\n",
      "[[45  0]\n",
      " [ 0 14]]\n",
      "\n"
     ]
    }
   ],
   "source": [
    "print(f'Матрица AtA\\n{np.dot(At, A)}\\n')"
   ]
  },
  {
   "cell_type": "markdown",
   "metadata": {},
   "source": [
    "\n",
    "__5.__ Вычислить определитель:\n",
    "\n",
    "   a)\n",
    "\n",
    "$$\\begin{vmatrix}\n",
    "sinx & -cosx\\\\ \n",
    "cosx & sinx\n",
    "\\end{vmatrix};$$"
   ]
  },
  {
   "cell_type": "code",
   "execution_count": 43,
   "metadata": {},
   "outputs": [
    {
     "name": "stdout",
     "output_type": "stream",
     "text": [
      "Определитель:\n",
      "1\n"
     ]
    }
   ],
   "source": [
    "x = 1;\n",
    "a = np.array([[np.sin(x), -(np.cos(x))], [np.cos(x), np.sin(x)]])\n",
    "print(f'Определитель:\\n{np.linalg.det(a):.0f}')"
   ]
  },
  {
   "cell_type": "markdown",
   "metadata": {},
   "source": [
    "   б)\n",
    "    \n",
    "$$\\begin{vmatrix}\n",
    "4 & 2 & 3\\\\ \n",
    "0 & 5 & 1\\\\ \n",
    "0 & 0 & 9\n",
    "\\end{vmatrix};$$"
   ]
  },
  {
   "cell_type": "code",
   "execution_count": 44,
   "metadata": {},
   "outputs": [
    {
     "name": "stdout",
     "output_type": "stream",
     "text": [
      "Определитель:\n",
      "180\n"
     ]
    }
   ],
   "source": [
    "a = np.array([[4, 2, 3], [0, 5, 1], [0, 0, 9]])\n",
    "print(f'Определитель:\\n{np.linalg.det(a):.0f}')"
   ]
  },
  {
   "cell_type": "markdown",
   "metadata": {},
   "source": [
    "   в)\n",
    "\n",
    "$$\\begin{vmatrix}\n",
    "1 & 2 & 3\\\\ \n",
    "4 & 5 & 6\\\\ \n",
    "7 & 8 & 9\n",
    "\\end{vmatrix}.$$"
   ]
  },
  {
   "cell_type": "code",
   "execution_count": 45,
   "metadata": {},
   "outputs": [
    {
     "name": "stdout",
     "output_type": "stream",
     "text": [
      "Определитель:\n",
      "-0\n"
     ]
    }
   ],
   "source": [
    "a = np.array([[1, 2, 3], [4, 5, 6], [7, 8, 9]])\n",
    "print(f'Определитель:\\n{np.linalg.det(a):.0f}')"
   ]
  },
  {
   "cell_type": "markdown",
   "metadata": {},
   "source": [
    "определитель такой матрицы равен 0 т.к если из второй и третьей строки вычесть первую то вторая и третья строки будет линейно зависимыми"
   ]
  },
  {
   "cell_type": "markdown",
   "metadata": {},
   "source": [
    "__6.__  Доказать, что матрица\n",
    "\n",
    "$$\\begin{pmatrix}\n",
    "-2 & 7 & -3\\\\ \n",
    "4 & -14 & 6\\\\ \n",
    "-3 & 7 & 13\n",
    "\\end{pmatrix}$$\n",
    "   \n",
    "вырожденная."
   ]
  },
  {
   "cell_type": "markdown",
   "metadata": {},
   "source": [
    "###### Матрица называется _сингулярной_, или _вырожденной_, если ее определитель равен нулю."
   ]
  },
  {
   "cell_type": "code",
   "execution_count": 46,
   "metadata": {},
   "outputs": [
    {
     "name": "stdout",
     "output_type": "stream",
     "text": [
      "Определитель:\n",
      "0\n"
     ]
    }
   ],
   "source": [
    "a = np.array([[-2, 7, -3], [4, -14, 6], [-3, 7, 13]])\n",
    "print(f'Определитель:\\n{np.linalg.det(a):.0f}')"
   ]
  },
  {
   "cell_type": "markdown",
   "metadata": {},
   "source": [
    "__7.__ Найти ранг матрицы:\n",
    "\n",
    "   а) $\\begin{pmatrix}\n",
    "1 & 2 & 3\\\\ \n",
    "1 & 1 & 1\\\\ \n",
    "2 & 3 & 4\n",
    "\\end{pmatrix};$"
   ]
  },
  {
   "cell_type": "code",
   "execution_count": 47,
   "metadata": {},
   "outputs": [
    {
     "name": "stdout",
     "output_type": "stream",
     "text": [
      "Ранг матрицы: 2\n"
     ]
    }
   ],
   "source": [
    "x = [1, 2, 3]\n",
    "y = [1, 1, 1]\n",
    "z = [2, 3, 4]\n",
    "\n",
    "a = np.array([x, y, z])\n",
    "r = np.linalg.matrix_rank(a)\n",
    "\n",
    "print(f'Ранг матрицы: {r}')"
   ]
  },
  {
   "cell_type": "code",
   "execution_count": null,
   "metadata": {},
   "outputs": [],
   "source": []
  }
 ],
 "metadata": {
  "colab": {
   "collapsed_sections": [],
   "name": "Lesson_3-REVISED.ipynb",
   "provenance": [],
   "version": "0.3.2"
  },
  "kernelspec": {
   "display_name": "Python 3",
   "language": "python",
   "name": "python3"
  },
  "language_info": {
   "codemirror_mode": {
    "name": "ipython",
    "version": 3
   },
   "file_extension": ".py",
   "mimetype": "text/x-python",
   "name": "python",
   "nbconvert_exporter": "python",
   "pygments_lexer": "ipython3",
   "version": "3.7.4"
  }
 },
 "nbformat": 4,
 "nbformat_minor": 1
}
